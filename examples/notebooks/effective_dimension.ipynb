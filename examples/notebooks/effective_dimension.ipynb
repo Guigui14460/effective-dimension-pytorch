{
 "cells": [
  {
   "cell_type": "markdown",
   "metadata": {
    "id": "vXhp5jvJnVE4",
    "tags": []
   },
   "source": [
    "# Effective dimension exemple\n",
    "\n",
    "Implementation test of the [Abbas' et al] paper available on [arXiv](https://arxiv.org/abs/2112.04807). The initial implementation are available here :\n",
    "- [amyami187/effective_dimension](https://github.com/amyami187/effective_dimension)\n",
    "- [amyami187/local_effective_dimension](https://github.com/amyami187/local_effective_dimension)\n",
    "\n",
    "The first objective of the paper is to create a capacity formula that quantify the number of parameters that are truely active in a statistical model that can be **classical** or **quantum**."
   ]
  },
  {
   "cell_type": "markdown",
   "metadata": {
    "id": "5ON0T-rYoTsK"
   },
   "source": [
    "## Goal\n",
    "The main objective of this paper is to create a capacity formula that quantify the number of paramters that are truely active in a statistical model to study the power of QNN (Quantum Neural Networks) over the NN (classical Neural Networks).\n",
    "\n",
    "Abbas' work is the first capacity measure that can handle :\n",
    "- generalization bound\n",
    "- correlation generalization\n",
    "- scale invariant\n",
    "- data dependant\n",
    "- training dependant\n",
    "- finite data\n",
    "- efficient evaluation"
   ]
  },
  {
   "cell_type": "markdown",
   "metadata": {
    "id": "G8EqYzOAoRHb"
   },
   "source": [
    "## Some mathematics explanation and simplification\n",
    "\n",
    "In all the exaplanation, we have \n",
    "- $\\Theta \\subset \\mathbb{R}^d$ is the parameter space ;\n",
    "- $\\theta \\in \\Theta$ is a vector of parameters ;\n",
    "- $\\kappa _{n,\\gamma } \\ =\\ \\frac{\\gamma n}{2\\pi \\ log\\ n}$ which is a constant where $n \\in \\mathbb{N}$, the number of example in training dataset and $\\gamma \\in (\\frac{2\\pi\\;log\\,n}{n}, 1]$ a factor ;\n",
    "- $F_{ij}(\\theta) = \\mathbb{E}_{(x,y) \\sim p}\\Big[ \\Big(\\frac{\\partial}{\\partial \\theta_i}log\\,f(x,y;\\theta)\\Big) \\Big(\\frac{\\partial}{\\partial \\theta_j}log\\,f(x,y;\\theta)\\Big) \\Big] \\in \\mathbb{R}^{d \\times d}$ is the Fisher information matrix (FIM) of $p(.;.;\\theta)$ ;\n",
    "- $\\overline{F}_{ij}( \\theta ) \\ :=\\ d\\frac{V_{\\Theta }}{\\int _{\\Theta } tr( F( \\theta )) \\ d\\theta } F_{ij}( \\theta ) \\in \\mathbb{R}^{d \\times d}$ is the normalized FIM.\n",
    "\n",
    "### Definition : global effective dimension\n",
    "Given a statistical model $\\mathcal{M}_{\\theta} := \\{p(.; .; \\theta) : \\theta \\in \\Theta \\subset \\mathbb{R}^d\\}$ with respect to $n \\in \\mathbb{N}$ and $\\gamma \\in (\\frac{2\\pi\\;log\\,n}{n}, 1]$, the global effective dimension is defined as\n",
    "$$d_{n,\\gamma }(\\mathcal{M}_{\\theta }) \\ :=\\ \\frac{2}{log\\ \\kappa _{n,\\gamma }} \\,log\\left(\\frac{1}{V_{\\Theta }}\\int\\nolimits _{\\Theta }\\sqrt{det( id_{d} \\ +\\ \\kappa _{n,\\gamma }\\overline{F}( \\theta ))} \\ d\\theta \\right)$$\n",
    "where $V_{\\theta} := \\int_{\\Theta}\\, d\\theta \\; \\in \\mathbb{R}_+$ is the volume of the parameter space.\n",
    "\n",
    "This definition come from [this paper](https://arxiv.org/abs/2001.10872) and from [this paper](https://www.nature.com/articles/s43588-021-00084-1).\n",
    "\n",
    "\n",
    "### First simplification\n",
    "Indeed, we can simplify the formula first by removing the $\\sqrt{\\;\\;}$ using the functions $log$ and $exp$ :\n",
    "$$\\sqrt{det( id_{d} \\ +\\ \\kappa _{n,\\gamma }\\overline{F}( \\theta ))} = exp \\Big(\\frac{1}{2} log\\;det(id_d + \\kappa _{n,\\gamma }\\overline{F}( \\theta ))\\Big)$$\n",
    "Then, one can simplify the logarithm of the determinant of the matrix into the trace of the logarithm of the matrix, e.g.\n",
    "$$exp \\Big(\\frac{1}{2} log\\;det(id_d + \\kappa _{n,\\gamma }\\overline{F}( \\theta ))\\Big) = exp \\Big(\\frac{1}{2} tr\\;log(id_d + \\kappa _{n,\\gamma }\\overline{F}( \\theta ))\\Big)$$\n",
    "Finally, we can use the definition of the trace ($tr(A) = \\sum_{i=1}^n a_{ii}$ where $A$ is a square matrix) and so we get this formula:\n",
    "$$\\sqrt{det( id_{d} \\ +\\ \\kappa _{n,\\gamma }\\overline{F}( \\theta ))} = exp \\Big(\\frac{1}{2}\\sum_{i=1}^{d}log\\Big(1 + \\kappa _{n,\\gamma }\\lambda_i(\\overline{F}( \\theta ))\\Big)\\Big)$$ where $\\lambda_i(\\overline{F}( \\theta ))$ denotes the $i$-th eigenvalue of $\\overline{F}( \\theta )$.\n",
    "\n",
    "By replacing in the initial formula, we obtain\n",
    "$$d_{n,\\gamma }(\\mathcal{M}_{\\theta }) \\ :=\\ \\frac{2}{log\\ \\kappa _{n,\\gamma }}log\\left(\\frac{1}{V_{\\Theta }}\\int\\nolimits _{\\Theta }exp \\Big(\\frac{1}{2}\\sum_{i=1}^{d}log\\Big(1 + \\kappa _{n,\\gamma }\\lambda_i(\\overline{F}( \\theta ))\\Big)\\Big) \\ d\\theta \\right)$$\n",
    "where $\\lambda_i(\\overline{F}( \\theta ))$ denotes the $i$-th eigenvalue of $\\overline{F}( \\theta )$.\n",
    "\n",
    "\n",
    "### Local effective dimension\n",
    "We can now define the local effective dimension. Nevertheless, contrary to the paper, I will not define balls containing a set of parameter vectors of radius $\\epsilon$. We will use the fact that we perform the computation on $\\theta^*$ which is the parameter vector returned at the end of the training of our statistical model. Thus, we have $V_{\\Theta} = 1$ and $\\int_{\\Theta} d\\theta = 1$ because we have no $\\theta \\in \\Theta$ other than $\\theta^*$ due to optimization.\n",
    "\n",
    "This gives us\n",
    "$$d_{n,\\gamma }(\\mathcal{M}_{\\theta }) \\ :=\\ \\frac{2}{log\\ \\kappa _{n,\\gamma }}log\\;exp \\Big(\\frac{1}{2}\\sum_{i=1}^{d}log\\Big(1 + \\kappa _{n,\\gamma }\\lambda_i(\\overline{F}( \\theta ))\\Big)\\Big)$$\n",
    "\n",
    "And finally, we obtain\n",
    "$$d_{n,\\gamma }(\\mathcal{M}_{\\theta }) \\ :=\\ \\frac{1}{log\\ \\kappa _{n,\\gamma }}\\sum_{i=1}^{d}log\\Big(1 + \\kappa _{n,\\gamma }\\lambda_i(\\overline{F}( \\theta ))\\Big)$$ where $\\kappa _{n,\\gamma } \\ =\\ \\frac{\\gamma n}{2\\pi \\ log\\ n}$, $\\overline{F}( \\theta ) \\ =\\ d\\frac{1}{tr( F( \\theta )) } F( \\theta )$ and $\\lambda_i(\\overline{F}( \\theta ))$ denotes the $i$-th eigenvalue of $\\overline{F}( \\theta )$ and $F(\\theta)$ the Fisher information matrix defined above."
   ]
  },
  {
   "cell_type": "markdown",
   "metadata": {
    "id": "N1_ubEZGoMXi"
   },
   "source": [
    "## Implementation of the function"
   ]
  },
  {
   "cell_type": "code",
   "execution_count": 1,
   "metadata": {
    "colab": {
     "base_uri": "https://localhost:8080/"
    },
    "id": "HegutlrKU9MR",
    "outputId": "b22a66d7-1b62-48d4-ec57-e50c4e02f233"
   },
   "outputs": [
    {
     "name": "stdout",
     "output_type": "stream",
     "text": [
      "Collecting nngeometry\n",
      "  Downloading nngeometry-0.2.1-py3-none-any.whl (21 kB)\n",
      "Requirement already satisfied: torch>=1.0.0 in /usr/local/lib/python3.7/dist-packages (from nngeometry) (1.10.0+cu111)\n",
      "Requirement already satisfied: typing-extensions in /usr/local/lib/python3.7/dist-packages (from torch>=1.0.0->nngeometry) (3.10.0.2)\n",
      "Installing collected packages: nngeometry\n",
      "Successfully installed nngeometry-0.2.1\n"
     ]
    }
   ],
   "source": [
    "!pip install nngeometry"
   ]
  },
  {
   "cell_type": "code",
   "execution_count": 2,
   "metadata": {
    "id": "iTXPJDVS0r67"
   },
   "outputs": [],
   "source": [
    "from itertools import product\n",
    "from typing import Sequence, Union\n",
    "\n",
    "from nngeometry.metrics import FIM\n",
    "from nngeometry.object import PMatKFAC\n",
    "import numpy as np\n",
    "import torch\n",
    "import torch.nn as nn\n",
    "import torch.nn.functional as F\n",
    "import torch.optim as optim\n",
    "import torch.utils.data as data\n",
    "from torch.utils.data import DataLoader\n",
    "from torchvision import datasets, transforms"
   ]
  },
  {
   "cell_type": "code",
   "execution_count": 3,
   "metadata": {
    "id": "GCEEjjI7bg_P"
   },
   "outputs": [],
   "source": [
    "def get_fisher_matrix_eigenvalues(fisher_information_matrix: FIM) -> np.ndarray:\n",
    "    s = fisher_information_matrix.generator.layer_collection.numel()\n",
    "    full_ls = []\n",
    "    for layer_id, layer in fisher_information_matrix.generator.layer_collection.layers.items():\n",
    "        a, g = fisher_information_matrix.data[layer_id]\n",
    "        evals_a, _ = torch.symeig(a)\n",
    "        evals_a = torch.nan_to_num(evals_a)\n",
    "        evals_g, _ = torch.symeig(g)\n",
    "        evals_g = torch.nan_to_num(evals_g)\n",
    "        full_ls.append([np.absolute(evals_a.detach().cpu().numpy()), np.absolute(evals_g.detach().cpu().numpy())])\n",
    "    eigs = []\n",
    "    contract_tuple = lambda t: t[0] * t[1]\n",
    "    for ls in full_ls:\n",
    "        eigs += list(map(contract_tuple, product(ls[0], ls[1])))\n",
    "    return np.array(np.absolute(eigs))\n",
    "\n",
    "def get_fisher_matrix(model: nn.Module, dataloader: data.DataLoader, model_output_size: int, \n",
    "                      device: Union[str, torch.device] = 'cpu', variant: str = 'classif_logits') -> FIM:\n",
    "    return FIM(model, dataloader, PMatKFAC, model_output_size, device=device, variant=variant)"
   ]
  },
  {
   "cell_type": "code",
   "execution_count": 4,
   "metadata": {
    "id": "thYDCUWInBBO"
   },
   "outputs": [],
   "source": [
    "def effective_dimension(fisher_matrix: FIM, dimensions: int, training_dataset_size: int, gamma: float = 1, normalized: bool = True) -> float:\n",
    "    c = 2 * np.pi * np.log(training_dataset_size)\n",
    "    assert gamma <= 1 and gamma > c / training_dataset_size\n",
    "\n",
    "    kappa = gamma * training_dataset_size / c\n",
    "\n",
    "    eigs = get_fisher_matrix_eigenvalues(fisher_matrix)\n",
    "    trace = fisher_matrix.trace().detach().cpu().numpy()\n",
    "    normalized_fisher_eigs = dimensions * eigs / trace\n",
    "    \n",
    "    numerator = np.sum(np.log(1 + kappa * normalized_fisher_eigs))\n",
    "    ed = numerator / np.log(kappa)\n",
    "    \n",
    "    if normalized:\n",
    "        return ed / dimensions\n",
    "    return ed\n",
    "\n",
    "\n",
    "def get_effective_dimension(model: nn.Module, dataloader: data.DataLoader, model_output_size: int, \n",
    "                            training_dataset_size: int, device: Union[str, torch.device] = 'cpu', \n",
    "                            variant: str = 'classif_logits', gamma: float = 1, normalized: bool = True) -> float:\n",
    "    d = count_parameters(model)\n",
    "    fisher = get_fisher_matrix(model, dataloader, model_output_size, device=device, variant=variant)\n",
    "    ed = effective_dimension(fisher, d, training_dataset_size, gamma=gamma, normalized=normalized)\n",
    "    return ed\n",
    "\n",
    "\n",
    "def count_parameters(model: nn.Module) -> int:\n",
    "    return sum(p.numel() for p in model.parameters() if p.requires_grad)"
   ]
  },
  {
   "cell_type": "markdown",
   "metadata": {
    "id": "inS4h8WI0y86"
   },
   "source": [
    "## Test on a densely connected NN to solve the MNIST dataset classification"
   ]
  },
  {
   "cell_type": "markdown",
   "metadata": {
    "id": "pqMsvxGbhPDO"
   },
   "source": [
    "### Define the model"
   ]
  },
  {
   "cell_type": "code",
   "execution_count": 5,
   "metadata": {
    "id": "9quGUd1p1sPo"
   },
   "outputs": [],
   "source": [
    "class Model(nn.Module):\n",
    "    def __init__(self, size: Sequence[int], bias=False):\n",
    "        super(Model, self).__init__()\n",
    "        self.size = size\n",
    "        self.layers = nn.ModuleList([\n",
    "            nn.Linear(self.size[i - 1], self.size[i], bias=bias) for i in range(1, len(self.size))\n",
    "        ])\n",
    "\n",
    "    def forward(self, x):\n",
    "        x = x.view(x.size(0), -1)\n",
    "        for i in range(len(self.size) - 2):\n",
    "            x = F.leaky_relu(self.layers[i](x))\n",
    "        x = self.layers[-1](x)\n",
    "        return x"
   ]
  },
  {
   "cell_type": "markdown",
   "metadata": {
    "id": "FBPKsTaqhSoh"
   },
   "source": [
    "### Fetch dataset et construct loaders"
   ]
  },
  {
   "cell_type": "code",
   "execution_count": 6,
   "metadata": {
    "colab": {
     "base_uri": "https://localhost:8080/",
     "height": 423,
     "referenced_widgets": [
      "395ceadd6ff3402989b12a2986356681",
      "6949a6e6b4e843d68f30e1d4474d01fe",
      "44ff1258c6a34d9e8bf0afad96ce853f",
      "168e4017a5ca42a5b74a7e0e332212ec",
      "914d32efcb834b36a96c330663bd1218",
      "639f2c485f6d45b684ed112beab89c1a",
      "e27c2d5be53a4a4ab002de5cc9613623",
      "5a746130a33e4c78ab16648749beab7a",
      "6499e190c539483f9d2a5a630706fb13",
      "216efa09a1bd4171b9f2944321a3a4dc",
      "05bb50e565ec48eda6b7dad33d177e02",
      "8cefc01a674e4b5aac9032e0bd045566",
      "aafe9da81dff481eba20c6521eeda0f2",
      "cb58e4be7f5841bd8a2559c8794271bb",
      "6177d25a8788421ba98e31b54e27cfaa",
      "234a6eda7c6e46f4b471693b2c6c946a",
      "7755ec4b90c54032aed7d618c14be1cd",
      "84bdfa7481954de693b747358aa6c532",
      "315a30aca52f45609fae6e99b5e3d5c1",
      "cca9e8b2d8814ca49d048b56963b919e",
      "3f0ca0973018415e99cab1bff0043959",
      "049d614ec8434c3997149fde229be719",
      "5a2d11cc624b45408f1c86f2d659a109",
      "0cc241e682f240c3b3c5891946c7735c",
      "d9a6df35fa804deea4582b048418eb06",
      "b3417e5e98fb47b9ae1d4c49f4a291bb",
      "ace7eecdf33446f6b017686ba8d97737",
      "8b2b15cbc9a243f2bdd3543f1aa81ed6",
      "03e209460c6341b681bacd9368e6b2c0",
      "a34122d4506c419b9785ebb75a075fb8",
      "8c3ad49245ca41069bcfeacb29aa9303",
      "53da81545d0447a7b54a68c29b72597c",
      "cf331529243248328cf5efbaee31b0de",
      "99e1bd950a194ab898b4c16dae894e68",
      "23482974f1d94442b6771ca350089402",
      "4b1a0d87a2c14945ad1100ec41dc4584",
      "ebf9b8cb71074654a2af74d02440a429",
      "ecfc54e08447470aa530fd5235b727f2",
      "019b2cc2d8474487b2414871e9f92244",
      "f53d86b4a61a4f06b1264b695b45ba05",
      "46b0b0b8c8604c49a948b6031d99dec6",
      "bbf76db98de04b0ab3cec18115c11f7d",
      "26610817fc1d4490b4a0f65db22bb917",
      "0b5d9a3340f04ea3aae6e9a15725d2e1"
     ]
    },
    "id": "pL3xm_jW2niT",
    "outputId": "a19c7618-826e-427d-ceb9-b561ce9f155b"
   },
   "outputs": [
    {
     "name": "stdout",
     "output_type": "stream",
     "text": [
      "Downloading http://yann.lecun.com/exdb/mnist/train-images-idx3-ubyte.gz\n",
      "Downloading http://yann.lecun.com/exdb/mnist/train-images-idx3-ubyte.gz to /tmp/data/MNIST/raw/train-images-idx3-ubyte.gz\n"
     ]
    },
    {
     "data": {
      "application/vnd.jupyter.widget-view+json": {
       "model_id": "395ceadd6ff3402989b12a2986356681",
       "version_major": 2,
       "version_minor": 0
      },
      "text/plain": [
       "  0%|          | 0/9912422 [00:00<?, ?it/s]"
      ]
     },
     "metadata": {},
     "output_type": "display_data"
    },
    {
     "name": "stdout",
     "output_type": "stream",
     "text": [
      "Extracting /tmp/data/MNIST/raw/train-images-idx3-ubyte.gz to /tmp/data/MNIST/raw\n",
      "\n",
      "Downloading http://yann.lecun.com/exdb/mnist/train-labels-idx1-ubyte.gz\n",
      "Downloading http://yann.lecun.com/exdb/mnist/train-labels-idx1-ubyte.gz to /tmp/data/MNIST/raw/train-labels-idx1-ubyte.gz\n"
     ]
    },
    {
     "data": {
      "application/vnd.jupyter.widget-view+json": {
       "model_id": "8cefc01a674e4b5aac9032e0bd045566",
       "version_major": 2,
       "version_minor": 0
      },
      "text/plain": [
       "  0%|          | 0/28881 [00:00<?, ?it/s]"
      ]
     },
     "metadata": {},
     "output_type": "display_data"
    },
    {
     "name": "stdout",
     "output_type": "stream",
     "text": [
      "Extracting /tmp/data/MNIST/raw/train-labels-idx1-ubyte.gz to /tmp/data/MNIST/raw\n",
      "\n",
      "Downloading http://yann.lecun.com/exdb/mnist/t10k-images-idx3-ubyte.gz\n",
      "Downloading http://yann.lecun.com/exdb/mnist/t10k-images-idx3-ubyte.gz to /tmp/data/MNIST/raw/t10k-images-idx3-ubyte.gz\n"
     ]
    },
    {
     "data": {
      "application/vnd.jupyter.widget-view+json": {
       "model_id": "5a2d11cc624b45408f1c86f2d659a109",
       "version_major": 2,
       "version_minor": 0
      },
      "text/plain": [
       "  0%|          | 0/1648877 [00:00<?, ?it/s]"
      ]
     },
     "metadata": {},
     "output_type": "display_data"
    },
    {
     "name": "stdout",
     "output_type": "stream",
     "text": [
      "Extracting /tmp/data/MNIST/raw/t10k-images-idx3-ubyte.gz to /tmp/data/MNIST/raw\n",
      "\n",
      "Downloading http://yann.lecun.com/exdb/mnist/t10k-labels-idx1-ubyte.gz\n",
      "Downloading http://yann.lecun.com/exdb/mnist/t10k-labels-idx1-ubyte.gz to /tmp/data/MNIST/raw/t10k-labels-idx1-ubyte.gz\n"
     ]
    },
    {
     "data": {
      "application/vnd.jupyter.widget-view+json": {
       "model_id": "99e1bd950a194ab898b4c16dae894e68",
       "version_major": 2,
       "version_minor": 0
      },
      "text/plain": [
       "  0%|          | 0/4542 [00:00<?, ?it/s]"
      ]
     },
     "metadata": {},
     "output_type": "display_data"
    },
    {
     "name": "stdout",
     "output_type": "stream",
     "text": [
      "Extracting /tmp/data/MNIST/raw/t10k-labels-idx1-ubyte.gz to /tmp/data/MNIST/raw\n",
      "\n"
     ]
    }
   ],
   "source": [
    "VALIDATION_RATIO = 0.9\n",
    "BATCH_SIZE = 64\n",
    "LEARNING_RATE = 0.01\n",
    "IMAGE_SIZE = 28\n",
    "OUTPUT_SIZE = 10\n",
    "\n",
    "# get device name\n",
    "device = torch.device('cuda' if torch.cuda.is_available() else 'cpu')\n",
    "\n",
    "# pull MNIST datatset and generate loaders\n",
    "trainset = datasets.MNIST(root=\"/tmp/data/\", train=True, download=True, transform=transforms.ToTensor())\n",
    "testset = datasets.MNIST(root=\"/tmp/data/\", train=False, download=True, transform=transforms.ToTensor())\n",
    "n_train_examples = int(len(trainset) * VALIDATION_RATIO)\n",
    "n_valid_examples = len(trainset) - n_train_examples\n",
    "train_data, valid_data = data.random_split(trainset, [n_train_examples, n_valid_examples])\n",
    "\n",
    "trainloader = DataLoader(dataset=train_data, batch_size=BATCH_SIZE, shuffle=True)\n",
    "validloader = DataLoader(dataset=valid_data, batch_size=BATCH_SIZE, shuffle=True)\n",
    "testloader = DataLoader(dataset=testset, batch_size=BATCH_SIZE, shuffle=True)"
   ]
  },
  {
   "cell_type": "markdown",
   "metadata": {
    "id": "IIgKjRSHhblJ"
   },
   "source": [
    "### Definition of useful function for training and testing"
   ]
  },
  {
   "cell_type": "code",
   "execution_count": 7,
   "metadata": {
    "id": "L9meR5LQ4Ujo"
   },
   "outputs": [],
   "source": [
    "def calculate_accuracy(y_pred, y):\n",
    "    top_pred = y_pred.argmax(1, keepdim=True)\n",
    "    correct = top_pred.eq(y.view_as(top_pred)).sum()\n",
    "    acc = correct.float() / y.shape[0]\n",
    "    return acc\n",
    "\n",
    "\n",
    "def train(model, loader, optimizer, criterion, device):\n",
    "    epoch_loss = 0\n",
    "    epoch_acc = 0\n",
    "\n",
    "    model.train()\n",
    "\n",
    "    for data in loader:\n",
    "        inputs, labels = data[0].to(device), data[1].to(device)\n",
    "        optimizer.zero_grad()\n",
    "\n",
    "        outputs = model(inputs)\n",
    "        loss = criterion(outputs, labels)\n",
    "        acc = calculate_accuracy(outputs, labels)\n",
    "        loss.backward()\n",
    "        optimizer.step()\n",
    "\n",
    "        epoch_loss += loss.item()\n",
    "        epoch_acc += acc.item()\n",
    "\n",
    "    return epoch_loss / len(loader), epoch_acc / len(loader)\n",
    "\n",
    "\n",
    "def evaluate(model, loader, optimizer, criterion, device):\n",
    "    epoch_loss = 0\n",
    "    epoch_acc = 0\n",
    "\n",
    "    model.eval()\n",
    "\n",
    "    with torch.no_grad():\n",
    "        for data in loader:\n",
    "            inputs, labels = data[0].to(device), data[1].to(device)\n",
    "            optimizer.zero_grad()\n",
    "\n",
    "            outputs = model(inputs)\n",
    "            loss = criterion(outputs, labels)\n",
    "            acc = calculate_accuracy(outputs, labels)\n",
    "\n",
    "            epoch_loss += loss.item()\n",
    "            epoch_acc += acc.item()\n",
    "\n",
    "    return epoch_loss / len(loader), epoch_acc / len(loader)"
   ]
  },
  {
   "cell_type": "markdown",
   "metadata": {
    "id": "dvvjSwT3hila"
   },
   "source": [
    "### Training"
   ]
  },
  {
   "cell_type": "code",
   "execution_count": 8,
   "metadata": {
    "id": "f-6GGO4D5rTR"
   },
   "outputs": [],
   "source": [
    "model = Model([IMAGE_SIZE*IMAGE_SIZE, 30, 30, OUTPUT_SIZE]).to(device)\n",
    "criterion = nn.CrossEntropyLoss().to(device)\n",
    "optimizer = optim.Adam(model.parameters(), lr=LEARNING_RATE)"
   ]
  },
  {
   "cell_type": "code",
   "execution_count": 9,
   "metadata": {
    "colab": {
     "base_uri": "https://localhost:8080/"
    },
    "id": "eMlO2D4YMX78",
    "outputId": "728b82ea-e6e0-49aa-a065-1269f0a69dfc"
   },
   "outputs": [
    {
     "name": "stdout",
     "output_type": "stream",
     "text": [
      "Epoch: 01\n",
      "\tTrain Loss: 0.299 | Train Acc: 90.89%\n",
      "\t Val. Loss: 0.206 |  Val. Acc: 93.87%\n",
      "Epoch: 02\n",
      "\tTrain Loss: 0.174 | Train Acc: 94.80%\n",
      "\t Val. Loss: 0.185 |  Val. Acc: 94.65%\n",
      "Epoch: 03\n",
      "\tTrain Loss: 0.146 | Train Acc: 95.61%\n",
      "\t Val. Loss: 0.160 |  Val. Acc: 95.51%\n",
      "Epoch: 04\n",
      "\tTrain Loss: 0.137 | Train Acc: 95.93%\n",
      "\t Val. Loss: 0.180 |  Val. Acc: 95.21%\n",
      "Epoch: 05\n",
      "\tTrain Loss: 0.125 | Train Acc: 96.29%\n",
      "\t Val. Loss: 0.170 |  Val. Acc: 95.40%\n",
      "Epoch: 06\n",
      "\tTrain Loss: 0.121 | Train Acc: 96.53%\n",
      "\t Val. Loss: 0.158 |  Val. Acc: 95.73%\n",
      "Epoch: 07\n",
      "\tTrain Loss: 0.116 | Train Acc: 96.62%\n",
      "\t Val. Loss: 0.170 |  Val. Acc: 95.50%\n",
      "Epoch: 08\n",
      "\tTrain Loss: 0.110 | Train Acc: 96.85%\n",
      "\t Val. Loss: 0.171 |  Val. Acc: 95.49%\n",
      "Epoch: 09\n",
      "\tTrain Loss: 0.107 | Train Acc: 96.92%\n",
      "\t Val. Loss: 0.147 |  Val. Acc: 96.44%\n",
      "Epoch: 10\n",
      "\tTrain Loss: 0.098 | Train Acc: 97.10%\n",
      "\t Val. Loss: 0.163 |  Val. Acc: 96.03%\n",
      "Epoch: 11\n",
      "\tTrain Loss: 0.098 | Train Acc: 97.16%\n",
      "\t Val. Loss: 0.182 |  Val. Acc: 95.22%\n",
      "Epoch: 12\n",
      "\tTrain Loss: 0.096 | Train Acc: 97.27%\n",
      "\t Val. Loss: 0.145 |  Val. Acc: 96.15%\n",
      "Epoch: 13\n",
      "\tTrain Loss: 0.091 | Train Acc: 97.39%\n",
      "\t Val. Loss: 0.239 |  Val. Acc: 94.50%\n",
      "Epoch: 14\n",
      "\tTrain Loss: 0.092 | Train Acc: 97.40%\n",
      "\t Val. Loss: 0.159 |  Val. Acc: 96.07%\n",
      "Epoch: 15\n",
      "\tTrain Loss: 0.090 | Train Acc: 97.44%\n",
      "\t Val. Loss: 0.176 |  Val. Acc: 95.72%\n",
      "Epoch: 16\n",
      "\tTrain Loss: 0.085 | Train Acc: 97.61%\n",
      "\t Val. Loss: 0.165 |  Val. Acc: 96.31%\n",
      "Epoch: 17\n",
      "\tTrain Loss: 0.087 | Train Acc: 97.56%\n",
      "\t Val. Loss: 0.179 |  Val. Acc: 95.77%\n",
      "Epoch: 18\n",
      "\tTrain Loss: 0.083 | Train Acc: 97.59%\n",
      "\t Val. Loss: 0.198 |  Val. Acc: 95.53%\n",
      "Epoch: 19\n",
      "\tTrain Loss: 0.079 | Train Acc: 97.74%\n",
      "\t Val. Loss: 0.192 |  Val. Acc: 95.84%\n",
      "Epoch: 20\n",
      "\tTrain Loss: 0.081 | Train Acc: 97.70%\n",
      "\t Val. Loss: 0.169 |  Val. Acc: 96.33%\n",
      "Epoch: 21\n",
      "\tTrain Loss: 0.073 | Train Acc: 97.88%\n",
      "\t Val. Loss: 0.177 |  Val. Acc: 96.24%\n",
      "Epoch: 22\n",
      "\tTrain Loss: 0.082 | Train Acc: 97.66%\n",
      "\t Val. Loss: 0.199 |  Val. Acc: 95.98%\n",
      "Epoch: 23\n",
      "\tTrain Loss: 0.075 | Train Acc: 97.86%\n",
      "\t Val. Loss: 0.190 |  Val. Acc: 96.05%\n",
      "Epoch: 24\n",
      "\tTrain Loss: 0.076 | Train Acc: 97.87%\n",
      "\t Val. Loss: 0.196 |  Val. Acc: 96.00%\n",
      "Epoch: 25\n",
      "\tTrain Loss: 0.067 | Train Acc: 98.04%\n",
      "\t Val. Loss: 0.206 |  Val. Acc: 96.09%\n"
     ]
    }
   ],
   "source": [
    "epochs = 25\n",
    "best_valid_loss = float('inf')\n",
    "for epoch in range(epochs):\n",
    "    train_loss, train_acc = train(model, trainloader, optimizer, criterion, device)\n",
    "    valid_loss, valid_acc = evaluate(model, validloader, optimizer, criterion, device)\n",
    "\n",
    "    if valid_loss < best_valid_loss:\n",
    "        best_valid_loss = valid_loss\n",
    "        torch.save(model.state_dict(), 'model.pt')\n",
    "\n",
    "    print(f'Epoch: {epoch+1:02}')\n",
    "    print(f'\\tTrain Loss: {train_loss:.3f} | Train Acc: {train_acc*100:.2f}%')\n",
    "    print(f'\\t Val. Loss: {valid_loss:.3f} |  Val. Acc: {valid_acc*100:.2f}%')"
   ]
  },
  {
   "cell_type": "markdown",
   "metadata": {
    "id": "IpQMjrLchobN"
   },
   "source": [
    "### Loading best seen model and test and test dataset"
   ]
  },
  {
   "cell_type": "code",
   "execution_count": 10,
   "metadata": {
    "colab": {
     "base_uri": "https://localhost:8080/"
    },
    "id": "TQzRyXAEM3UY",
    "outputId": "8af372e9-6f00-4593-c68d-3102a57ce51d"
   },
   "outputs": [
    {
     "name": "stdout",
     "output_type": "stream",
     "text": [
      "Test Loss: 0.163 | Test Acc: 96.26%\n"
     ]
    }
   ],
   "source": [
    "model.load_state_dict(torch.load('model.pt'))\n",
    "\n",
    "test_loss, test_acc = evaluate(model, testloader, optimizer, criterion, device)\n",
    "print(f'Test Loss: {test_loss:.3f} | Test Acc: {test_acc*100:.2f}%')"
   ]
  },
  {
   "cell_type": "markdown",
   "metadata": {
    "id": "ER5QRB0dhvHb"
   },
   "source": [
    "### Compute the effective dimension"
   ]
  },
  {
   "cell_type": "code",
   "execution_count": 11,
   "metadata": {
    "colab": {
     "base_uri": "https://localhost:8080/"
    },
    "id": "UNyu98R14UXD",
    "outputId": "896ab89f-c84d-4156-91e4-911216d205f7"
   },
   "outputs": [
    {
     "name": "stderr",
     "output_type": "stream",
     "text": [
      "/usr/local/lib/python3.7/dist-packages/torch/nn/modules/module.py:1025: UserWarning: Using a non-full backward hook when the forward contains multiple autograd Nodes is deprecated and will be removed in future versions. This hook will be missing some grad_input. Please use register_full_backward_hook to get the documented behavior.\n",
      "  warnings.warn(\"Using a non-full backward hook when the forward contains multiple autograd Nodes \"\n"
     ]
    },
    {
     "name": "stdout",
     "output_type": "stream",
     "text": [
      "Effective dimension : 4472.986261742599\n"
     ]
    },
    {
     "name": "stderr",
     "output_type": "stream",
     "text": [
      "/usr/local/lib/python3.7/dist-packages/ipykernel_launcher.py:6: UserWarning: torch.symeig is deprecated in favor of torch.linalg.eigh and will be removed in a future PyTorch release.\n",
      "The default behavior has changed from using the upper triangular portion of the matrix by default to using the lower triangular portion.\n",
      "L, _ = torch.symeig(A, upper=upper)\n",
      "should be replaced with\n",
      "L = torch.linalg.eigvalsh(A, UPLO='U' if upper else 'L')\n",
      "and\n",
      "L, V = torch.symeig(A, eigenvectors=True)\n",
      "should be replaced with\n",
      "L, V = torch.linalg.eigh(A, UPLO='U' if upper else 'L') (Triggered internally at  ../aten/src/ATen/native/BatchLinearAlgebra.cpp:2499.)\n",
      "  \n"
     ]
    }
   ],
   "source": [
    "ed = get_effective_dimension(model, trainloader, OUTPUT_SIZE, n_train_examples, device=device, normalized=False)\n",
    "print(\"Effective dimension :\", ed)"
   ]
  },
  {
   "cell_type": "code",
   "execution_count": 12,
   "metadata": {
    "colab": {
     "base_uri": "https://localhost:8080/"
    },
    "id": "Vp39n4lNeEkp",
    "outputId": "cd7d6fd8-84da-4802-d729-78eda3984f1e"
   },
   "outputs": [
    {
     "name": "stderr",
     "output_type": "stream",
     "text": [
      "/usr/local/lib/python3.7/dist-packages/torch/nn/modules/module.py:1025: UserWarning: Using a non-full backward hook when the forward contains multiple autograd Nodes is deprecated and will be removed in future versions. This hook will be missing some grad_input. Please use register_full_backward_hook to get the documented behavior.\n",
      "  warnings.warn(\"Using a non-full backward hook when the forward contains multiple autograd Nodes \"\n"
     ]
    },
    {
     "name": "stdout",
     "output_type": "stream",
     "text": [
      "Normalized effective dimension : 0.18095061830138096\n"
     ]
    }
   ],
   "source": [
    "normalized_ed = get_effective_dimension(model, trainloader, OUTPUT_SIZE, n_train_examples, device=device, normalized=True)\n",
    "print(\"Normalized effective dimension :\", normalized_ed)"
   ]
  },
  {
   "cell_type": "code",
   "execution_count": null,
   "metadata": {
    "id": "eN96cLcujK8B"
   },
   "outputs": [],
   "source": []
  }
 ],
 "metadata": {
  "accelerator": "GPU",
  "colab": {
   "collapsed_sections": [],
   "name": "effective_dimension.ipynb",
   "provenance": []
  },
  "kernelspec": {
   "display_name": "Python 3 (ipykernel)",
   "language": "python",
   "name": "python3"
  },
  "language_info": {
   "codemirror_mode": {
    "name": "ipython",
    "version": 3
   },
   "file_extension": ".py",
   "mimetype": "text/x-python",
   "name": "python",
   "nbconvert_exporter": "python",
   "pygments_lexer": "ipython3",
   "version": "3.8.8"
  },
  "widgets": {
   "application/vnd.jupyter.widget-state+json": {
    "019b2cc2d8474487b2414871e9f92244": {
     "model_module": "@jupyter-widgets/controls",
     "model_module_version": "1.5.0",
     "model_name": "DescriptionStyleModel",
     "state": {
      "_model_module": "@jupyter-widgets/controls",
      "_model_module_version": "1.5.0",
      "_model_name": "DescriptionStyleModel",
      "_view_count": null,
      "_view_module": "@jupyter-widgets/base",
      "_view_module_version": "1.2.0",
      "_view_name": "StyleView",
      "description_width": ""
     }
    },
    "03e209460c6341b681bacd9368e6b2c0": {
     "model_module": "@jupyter-widgets/base",
     "model_module_version": "1.2.0",
     "model_name": "LayoutModel",
     "state": {
      "_model_module": "@jupyter-widgets/base",
      "_model_module_version": "1.2.0",
      "_model_name": "LayoutModel",
      "_view_count": null,
      "_view_module": "@jupyter-widgets/base",
      "_view_module_version": "1.2.0",
      "_view_name": "LayoutView",
      "align_content": null,
      "align_items": null,
      "align_self": null,
      "border": null,
      "bottom": null,
      "display": null,
      "flex": null,
      "flex_flow": null,
      "grid_area": null,
      "grid_auto_columns": null,
      "grid_auto_flow": null,
      "grid_auto_rows": null,
      "grid_column": null,
      "grid_gap": null,
      "grid_row": null,
      "grid_template_areas": null,
      "grid_template_columns": null,
      "grid_template_rows": null,
      "height": null,
      "justify_content": null,
      "justify_items": null,
      "left": null,
      "margin": null,
      "max_height": null,
      "max_width": null,
      "min_height": null,
      "min_width": null,
      "object_fit": null,
      "object_position": null,
      "order": null,
      "overflow": null,
      "overflow_x": null,
      "overflow_y": null,
      "padding": null,
      "right": null,
      "top": null,
      "visibility": null,
      "width": null
     }
    },
    "049d614ec8434c3997149fde229be719": {
     "model_module": "@jupyter-widgets/base",
     "model_module_version": "1.2.0",
     "model_name": "LayoutModel",
     "state": {
      "_model_module": "@jupyter-widgets/base",
      "_model_module_version": "1.2.0",
      "_model_name": "LayoutModel",
      "_view_count": null,
      "_view_module": "@jupyter-widgets/base",
      "_view_module_version": "1.2.0",
      "_view_name": "LayoutView",
      "align_content": null,
      "align_items": null,
      "align_self": null,
      "border": null,
      "bottom": null,
      "display": null,
      "flex": null,
      "flex_flow": null,
      "grid_area": null,
      "grid_auto_columns": null,
      "grid_auto_flow": null,
      "grid_auto_rows": null,
      "grid_column": null,
      "grid_gap": null,
      "grid_row": null,
      "grid_template_areas": null,
      "grid_template_columns": null,
      "grid_template_rows": null,
      "height": null,
      "justify_content": null,
      "justify_items": null,
      "left": null,
      "margin": null,
      "max_height": null,
      "max_width": null,
      "min_height": null,
      "min_width": null,
      "object_fit": null,
      "object_position": null,
      "order": null,
      "overflow": null,
      "overflow_x": null,
      "overflow_y": null,
      "padding": null,
      "right": null,
      "top": null,
      "visibility": null,
      "width": null
     }
    },
    "05bb50e565ec48eda6b7dad33d177e02": {
     "model_module": "@jupyter-widgets/base",
     "model_module_version": "1.2.0",
     "model_name": "LayoutModel",
     "state": {
      "_model_module": "@jupyter-widgets/base",
      "_model_module_version": "1.2.0",
      "_model_name": "LayoutModel",
      "_view_count": null,
      "_view_module": "@jupyter-widgets/base",
      "_view_module_version": "1.2.0",
      "_view_name": "LayoutView",
      "align_content": null,
      "align_items": null,
      "align_self": null,
      "border": null,
      "bottom": null,
      "display": null,
      "flex": null,
      "flex_flow": null,
      "grid_area": null,
      "grid_auto_columns": null,
      "grid_auto_flow": null,
      "grid_auto_rows": null,
      "grid_column": null,
      "grid_gap": null,
      "grid_row": null,
      "grid_template_areas": null,
      "grid_template_columns": null,
      "grid_template_rows": null,
      "height": null,
      "justify_content": null,
      "justify_items": null,
      "left": null,
      "margin": null,
      "max_height": null,
      "max_width": null,
      "min_height": null,
      "min_width": null,
      "object_fit": null,
      "object_position": null,
      "order": null,
      "overflow": null,
      "overflow_x": null,
      "overflow_y": null,
      "padding": null,
      "right": null,
      "top": null,
      "visibility": null,
      "width": null
     }
    },
    "0b5d9a3340f04ea3aae6e9a15725d2e1": {
     "model_module": "@jupyter-widgets/base",
     "model_module_version": "1.2.0",
     "model_name": "LayoutModel",
     "state": {
      "_model_module": "@jupyter-widgets/base",
      "_model_module_version": "1.2.0",
      "_model_name": "LayoutModel",
      "_view_count": null,
      "_view_module": "@jupyter-widgets/base",
      "_view_module_version": "1.2.0",
      "_view_name": "LayoutView",
      "align_content": null,
      "align_items": null,
      "align_self": null,
      "border": null,
      "bottom": null,
      "display": null,
      "flex": null,
      "flex_flow": null,
      "grid_area": null,
      "grid_auto_columns": null,
      "grid_auto_flow": null,
      "grid_auto_rows": null,
      "grid_column": null,
      "grid_gap": null,
      "grid_row": null,
      "grid_template_areas": null,
      "grid_template_columns": null,
      "grid_template_rows": null,
      "height": null,
      "justify_content": null,
      "justify_items": null,
      "left": null,
      "margin": null,
      "max_height": null,
      "max_width": null,
      "min_height": null,
      "min_width": null,
      "object_fit": null,
      "object_position": null,
      "order": null,
      "overflow": null,
      "overflow_x": null,
      "overflow_y": null,
      "padding": null,
      "right": null,
      "top": null,
      "visibility": null,
      "width": null
     }
    },
    "0cc241e682f240c3b3c5891946c7735c": {
     "model_module": "@jupyter-widgets/base",
     "model_module_version": "1.2.0",
     "model_name": "LayoutModel",
     "state": {
      "_model_module": "@jupyter-widgets/base",
      "_model_module_version": "1.2.0",
      "_model_name": "LayoutModel",
      "_view_count": null,
      "_view_module": "@jupyter-widgets/base",
      "_view_module_version": "1.2.0",
      "_view_name": "LayoutView",
      "align_content": null,
      "align_items": null,
      "align_self": null,
      "border": null,
      "bottom": null,
      "display": null,
      "flex": null,
      "flex_flow": null,
      "grid_area": null,
      "grid_auto_columns": null,
      "grid_auto_flow": null,
      "grid_auto_rows": null,
      "grid_column": null,
      "grid_gap": null,
      "grid_row": null,
      "grid_template_areas": null,
      "grid_template_columns": null,
      "grid_template_rows": null,
      "height": null,
      "justify_content": null,
      "justify_items": null,
      "left": null,
      "margin": null,
      "max_height": null,
      "max_width": null,
      "min_height": null,
      "min_width": null,
      "object_fit": null,
      "object_position": null,
      "order": null,
      "overflow": null,
      "overflow_x": null,
      "overflow_y": null,
      "padding": null,
      "right": null,
      "top": null,
      "visibility": null,
      "width": null
     }
    },
    "168e4017a5ca42a5b74a7e0e332212ec": {
     "model_module": "@jupyter-widgets/controls",
     "model_module_version": "1.5.0",
     "model_name": "FloatProgressModel",
     "state": {
      "_dom_classes": [],
      "_model_module": "@jupyter-widgets/controls",
      "_model_module_version": "1.5.0",
      "_model_name": "FloatProgressModel",
      "_view_count": null,
      "_view_module": "@jupyter-widgets/controls",
      "_view_module_version": "1.5.0",
      "_view_name": "ProgressView",
      "bar_style": "success",
      "description": "",
      "description_tooltip": null,
      "layout": "IPY_MODEL_6499e190c539483f9d2a5a630706fb13",
      "max": 9912422,
      "min": 0,
      "orientation": "horizontal",
      "style": "IPY_MODEL_5a746130a33e4c78ab16648749beab7a",
      "value": 9912422
     }
    },
    "216efa09a1bd4171b9f2944321a3a4dc": {
     "model_module": "@jupyter-widgets/controls",
     "model_module_version": "1.5.0",
     "model_name": "DescriptionStyleModel",
     "state": {
      "_model_module": "@jupyter-widgets/controls",
      "_model_module_version": "1.5.0",
      "_model_name": "DescriptionStyleModel",
      "_view_count": null,
      "_view_module": "@jupyter-widgets/base",
      "_view_module_version": "1.2.0",
      "_view_name": "StyleView",
      "description_width": ""
     }
    },
    "23482974f1d94442b6771ca350089402": {
     "model_module": "@jupyter-widgets/base",
     "model_module_version": "1.2.0",
     "model_name": "LayoutModel",
     "state": {
      "_model_module": "@jupyter-widgets/base",
      "_model_module_version": "1.2.0",
      "_model_name": "LayoutModel",
      "_view_count": null,
      "_view_module": "@jupyter-widgets/base",
      "_view_module_version": "1.2.0",
      "_view_name": "LayoutView",
      "align_content": null,
      "align_items": null,
      "align_self": null,
      "border": null,
      "bottom": null,
      "display": null,
      "flex": null,
      "flex_flow": null,
      "grid_area": null,
      "grid_auto_columns": null,
      "grid_auto_flow": null,
      "grid_auto_rows": null,
      "grid_column": null,
      "grid_gap": null,
      "grid_row": null,
      "grid_template_areas": null,
      "grid_template_columns": null,
      "grid_template_rows": null,
      "height": null,
      "justify_content": null,
      "justify_items": null,
      "left": null,
      "margin": null,
      "max_height": null,
      "max_width": null,
      "min_height": null,
      "min_width": null,
      "object_fit": null,
      "object_position": null,
      "order": null,
      "overflow": null,
      "overflow_x": null,
      "overflow_y": null,
      "padding": null,
      "right": null,
      "top": null,
      "visibility": null,
      "width": null
     }
    },
    "234a6eda7c6e46f4b471693b2c6c946a": {
     "model_module": "@jupyter-widgets/controls",
     "model_module_version": "1.5.0",
     "model_name": "HTMLModel",
     "state": {
      "_dom_classes": [],
      "_model_module": "@jupyter-widgets/controls",
      "_model_module_version": "1.5.0",
      "_model_name": "HTMLModel",
      "_view_count": null,
      "_view_module": "@jupyter-widgets/controls",
      "_view_module_version": "1.5.0",
      "_view_name": "HTMLView",
      "description": "",
      "description_tooltip": null,
      "layout": "IPY_MODEL_049d614ec8434c3997149fde229be719",
      "placeholder": "​",
      "style": "IPY_MODEL_3f0ca0973018415e99cab1bff0043959",
      "value": " 29696/? [00:00&lt;00:00, 791603.44it/s]"
     }
    },
    "26610817fc1d4490b4a0f65db22bb917": {
     "model_module": "@jupyter-widgets/controls",
     "model_module_version": "1.5.0",
     "model_name": "DescriptionStyleModel",
     "state": {
      "_model_module": "@jupyter-widgets/controls",
      "_model_module_version": "1.5.0",
      "_model_name": "DescriptionStyleModel",
      "_view_count": null,
      "_view_module": "@jupyter-widgets/base",
      "_view_module_version": "1.2.0",
      "_view_name": "StyleView",
      "description_width": ""
     }
    },
    "315a30aca52f45609fae6e99b5e3d5c1": {
     "model_module": "@jupyter-widgets/controls",
     "model_module_version": "1.5.0",
     "model_name": "ProgressStyleModel",
     "state": {
      "_model_module": "@jupyter-widgets/controls",
      "_model_module_version": "1.5.0",
      "_model_name": "ProgressStyleModel",
      "_view_count": null,
      "_view_module": "@jupyter-widgets/base",
      "_view_module_version": "1.2.0",
      "_view_name": "StyleView",
      "bar_color": null,
      "description_width": ""
     }
    },
    "395ceadd6ff3402989b12a2986356681": {
     "model_module": "@jupyter-widgets/controls",
     "model_module_version": "1.5.0",
     "model_name": "HBoxModel",
     "state": {
      "_dom_classes": [],
      "_model_module": "@jupyter-widgets/controls",
      "_model_module_version": "1.5.0",
      "_model_name": "HBoxModel",
      "_view_count": null,
      "_view_module": "@jupyter-widgets/controls",
      "_view_module_version": "1.5.0",
      "_view_name": "HBoxView",
      "box_style": "",
      "children": [
       "IPY_MODEL_44ff1258c6a34d9e8bf0afad96ce853f",
       "IPY_MODEL_168e4017a5ca42a5b74a7e0e332212ec",
       "IPY_MODEL_914d32efcb834b36a96c330663bd1218"
      ],
      "layout": "IPY_MODEL_6949a6e6b4e843d68f30e1d4474d01fe"
     }
    },
    "3f0ca0973018415e99cab1bff0043959": {
     "model_module": "@jupyter-widgets/controls",
     "model_module_version": "1.5.0",
     "model_name": "DescriptionStyleModel",
     "state": {
      "_model_module": "@jupyter-widgets/controls",
      "_model_module_version": "1.5.0",
      "_model_name": "DescriptionStyleModel",
      "_view_count": null,
      "_view_module": "@jupyter-widgets/base",
      "_view_module_version": "1.2.0",
      "_view_name": "StyleView",
      "description_width": ""
     }
    },
    "44ff1258c6a34d9e8bf0afad96ce853f": {
     "model_module": "@jupyter-widgets/controls",
     "model_module_version": "1.5.0",
     "model_name": "HTMLModel",
     "state": {
      "_dom_classes": [],
      "_model_module": "@jupyter-widgets/controls",
      "_model_module_version": "1.5.0",
      "_model_name": "HTMLModel",
      "_view_count": null,
      "_view_module": "@jupyter-widgets/controls",
      "_view_module_version": "1.5.0",
      "_view_name": "HTMLView",
      "description": "",
      "description_tooltip": null,
      "layout": "IPY_MODEL_e27c2d5be53a4a4ab002de5cc9613623",
      "placeholder": "​",
      "style": "IPY_MODEL_639f2c485f6d45b684ed112beab89c1a",
      "value": ""
     }
    },
    "46b0b0b8c8604c49a948b6031d99dec6": {
     "model_module": "@jupyter-widgets/controls",
     "model_module_version": "1.5.0",
     "model_name": "ProgressStyleModel",
     "state": {
      "_model_module": "@jupyter-widgets/controls",
      "_model_module_version": "1.5.0",
      "_model_name": "ProgressStyleModel",
      "_view_count": null,
      "_view_module": "@jupyter-widgets/base",
      "_view_module_version": "1.2.0",
      "_view_name": "StyleView",
      "bar_color": null,
      "description_width": ""
     }
    },
    "4b1a0d87a2c14945ad1100ec41dc4584": {
     "model_module": "@jupyter-widgets/controls",
     "model_module_version": "1.5.0",
     "model_name": "HTMLModel",
     "state": {
      "_dom_classes": [],
      "_model_module": "@jupyter-widgets/controls",
      "_model_module_version": "1.5.0",
      "_model_name": "HTMLModel",
      "_view_count": null,
      "_view_module": "@jupyter-widgets/controls",
      "_view_module_version": "1.5.0",
      "_view_name": "HTMLView",
      "description": "",
      "description_tooltip": null,
      "layout": "IPY_MODEL_f53d86b4a61a4f06b1264b695b45ba05",
      "placeholder": "​",
      "style": "IPY_MODEL_019b2cc2d8474487b2414871e9f92244",
      "value": ""
     }
    },
    "53da81545d0447a7b54a68c29b72597c": {
     "model_module": "@jupyter-widgets/controls",
     "model_module_version": "1.5.0",
     "model_name": "DescriptionStyleModel",
     "state": {
      "_model_module": "@jupyter-widgets/controls",
      "_model_module_version": "1.5.0",
      "_model_name": "DescriptionStyleModel",
      "_view_count": null,
      "_view_module": "@jupyter-widgets/base",
      "_view_module_version": "1.2.0",
      "_view_name": "StyleView",
      "description_width": ""
     }
    },
    "5a2d11cc624b45408f1c86f2d659a109": {
     "model_module": "@jupyter-widgets/controls",
     "model_module_version": "1.5.0",
     "model_name": "HBoxModel",
     "state": {
      "_dom_classes": [],
      "_model_module": "@jupyter-widgets/controls",
      "_model_module_version": "1.5.0",
      "_model_name": "HBoxModel",
      "_view_count": null,
      "_view_module": "@jupyter-widgets/controls",
      "_view_module_version": "1.5.0",
      "_view_name": "HBoxView",
      "box_style": "",
      "children": [
       "IPY_MODEL_d9a6df35fa804deea4582b048418eb06",
       "IPY_MODEL_b3417e5e98fb47b9ae1d4c49f4a291bb",
       "IPY_MODEL_ace7eecdf33446f6b017686ba8d97737"
      ],
      "layout": "IPY_MODEL_0cc241e682f240c3b3c5891946c7735c"
     }
    },
    "5a746130a33e4c78ab16648749beab7a": {
     "model_module": "@jupyter-widgets/controls",
     "model_module_version": "1.5.0",
     "model_name": "ProgressStyleModel",
     "state": {
      "_model_module": "@jupyter-widgets/controls",
      "_model_module_version": "1.5.0",
      "_model_name": "ProgressStyleModel",
      "_view_count": null,
      "_view_module": "@jupyter-widgets/base",
      "_view_module_version": "1.2.0",
      "_view_name": "StyleView",
      "bar_color": null,
      "description_width": ""
     }
    },
    "6177d25a8788421ba98e31b54e27cfaa": {
     "model_module": "@jupyter-widgets/controls",
     "model_module_version": "1.5.0",
     "model_name": "FloatProgressModel",
     "state": {
      "_dom_classes": [],
      "_model_module": "@jupyter-widgets/controls",
      "_model_module_version": "1.5.0",
      "_model_name": "FloatProgressModel",
      "_view_count": null,
      "_view_module": "@jupyter-widgets/controls",
      "_view_module_version": "1.5.0",
      "_view_name": "ProgressView",
      "bar_style": "success",
      "description": "",
      "description_tooltip": null,
      "layout": "IPY_MODEL_cca9e8b2d8814ca49d048b56963b919e",
      "max": 28881,
      "min": 0,
      "orientation": "horizontal",
      "style": "IPY_MODEL_315a30aca52f45609fae6e99b5e3d5c1",
      "value": 28881
     }
    },
    "639f2c485f6d45b684ed112beab89c1a": {
     "model_module": "@jupyter-widgets/controls",
     "model_module_version": "1.5.0",
     "model_name": "DescriptionStyleModel",
     "state": {
      "_model_module": "@jupyter-widgets/controls",
      "_model_module_version": "1.5.0",
      "_model_name": "DescriptionStyleModel",
      "_view_count": null,
      "_view_module": "@jupyter-widgets/base",
      "_view_module_version": "1.2.0",
      "_view_name": "StyleView",
      "description_width": ""
     }
    },
    "6499e190c539483f9d2a5a630706fb13": {
     "model_module": "@jupyter-widgets/base",
     "model_module_version": "1.2.0",
     "model_name": "LayoutModel",
     "state": {
      "_model_module": "@jupyter-widgets/base",
      "_model_module_version": "1.2.0",
      "_model_name": "LayoutModel",
      "_view_count": null,
      "_view_module": "@jupyter-widgets/base",
      "_view_module_version": "1.2.0",
      "_view_name": "LayoutView",
      "align_content": null,
      "align_items": null,
      "align_self": null,
      "border": null,
      "bottom": null,
      "display": null,
      "flex": null,
      "flex_flow": null,
      "grid_area": null,
      "grid_auto_columns": null,
      "grid_auto_flow": null,
      "grid_auto_rows": null,
      "grid_column": null,
      "grid_gap": null,
      "grid_row": null,
      "grid_template_areas": null,
      "grid_template_columns": null,
      "grid_template_rows": null,
      "height": null,
      "justify_content": null,
      "justify_items": null,
      "left": null,
      "margin": null,
      "max_height": null,
      "max_width": null,
      "min_height": null,
      "min_width": null,
      "object_fit": null,
      "object_position": null,
      "order": null,
      "overflow": null,
      "overflow_x": null,
      "overflow_y": null,
      "padding": null,
      "right": null,
      "top": null,
      "visibility": null,
      "width": null
     }
    },
    "6949a6e6b4e843d68f30e1d4474d01fe": {
     "model_module": "@jupyter-widgets/base",
     "model_module_version": "1.2.0",
     "model_name": "LayoutModel",
     "state": {
      "_model_module": "@jupyter-widgets/base",
      "_model_module_version": "1.2.0",
      "_model_name": "LayoutModel",
      "_view_count": null,
      "_view_module": "@jupyter-widgets/base",
      "_view_module_version": "1.2.0",
      "_view_name": "LayoutView",
      "align_content": null,
      "align_items": null,
      "align_self": null,
      "border": null,
      "bottom": null,
      "display": null,
      "flex": null,
      "flex_flow": null,
      "grid_area": null,
      "grid_auto_columns": null,
      "grid_auto_flow": null,
      "grid_auto_rows": null,
      "grid_column": null,
      "grid_gap": null,
      "grid_row": null,
      "grid_template_areas": null,
      "grid_template_columns": null,
      "grid_template_rows": null,
      "height": null,
      "justify_content": null,
      "justify_items": null,
      "left": null,
      "margin": null,
      "max_height": null,
      "max_width": null,
      "min_height": null,
      "min_width": null,
      "object_fit": null,
      "object_position": null,
      "order": null,
      "overflow": null,
      "overflow_x": null,
      "overflow_y": null,
      "padding": null,
      "right": null,
      "top": null,
      "visibility": null,
      "width": null
     }
    },
    "7755ec4b90c54032aed7d618c14be1cd": {
     "model_module": "@jupyter-widgets/controls",
     "model_module_version": "1.5.0",
     "model_name": "DescriptionStyleModel",
     "state": {
      "_model_module": "@jupyter-widgets/controls",
      "_model_module_version": "1.5.0",
      "_model_name": "DescriptionStyleModel",
      "_view_count": null,
      "_view_module": "@jupyter-widgets/base",
      "_view_module_version": "1.2.0",
      "_view_name": "StyleView",
      "description_width": ""
     }
    },
    "84bdfa7481954de693b747358aa6c532": {
     "model_module": "@jupyter-widgets/base",
     "model_module_version": "1.2.0",
     "model_name": "LayoutModel",
     "state": {
      "_model_module": "@jupyter-widgets/base",
      "_model_module_version": "1.2.0",
      "_model_name": "LayoutModel",
      "_view_count": null,
      "_view_module": "@jupyter-widgets/base",
      "_view_module_version": "1.2.0",
      "_view_name": "LayoutView",
      "align_content": null,
      "align_items": null,
      "align_self": null,
      "border": null,
      "bottom": null,
      "display": null,
      "flex": null,
      "flex_flow": null,
      "grid_area": null,
      "grid_auto_columns": null,
      "grid_auto_flow": null,
      "grid_auto_rows": null,
      "grid_column": null,
      "grid_gap": null,
      "grid_row": null,
      "grid_template_areas": null,
      "grid_template_columns": null,
      "grid_template_rows": null,
      "height": null,
      "justify_content": null,
      "justify_items": null,
      "left": null,
      "margin": null,
      "max_height": null,
      "max_width": null,
      "min_height": null,
      "min_width": null,
      "object_fit": null,
      "object_position": null,
      "order": null,
      "overflow": null,
      "overflow_x": null,
      "overflow_y": null,
      "padding": null,
      "right": null,
      "top": null,
      "visibility": null,
      "width": null
     }
    },
    "8b2b15cbc9a243f2bdd3543f1aa81ed6": {
     "model_module": "@jupyter-widgets/controls",
     "model_module_version": "1.5.0",
     "model_name": "DescriptionStyleModel",
     "state": {
      "_model_module": "@jupyter-widgets/controls",
      "_model_module_version": "1.5.0",
      "_model_name": "DescriptionStyleModel",
      "_view_count": null,
      "_view_module": "@jupyter-widgets/base",
      "_view_module_version": "1.2.0",
      "_view_name": "StyleView",
      "description_width": ""
     }
    },
    "8c3ad49245ca41069bcfeacb29aa9303": {
     "model_module": "@jupyter-widgets/base",
     "model_module_version": "1.2.0",
     "model_name": "LayoutModel",
     "state": {
      "_model_module": "@jupyter-widgets/base",
      "_model_module_version": "1.2.0",
      "_model_name": "LayoutModel",
      "_view_count": null,
      "_view_module": "@jupyter-widgets/base",
      "_view_module_version": "1.2.0",
      "_view_name": "LayoutView",
      "align_content": null,
      "align_items": null,
      "align_self": null,
      "border": null,
      "bottom": null,
      "display": null,
      "flex": null,
      "flex_flow": null,
      "grid_area": null,
      "grid_auto_columns": null,
      "grid_auto_flow": null,
      "grid_auto_rows": null,
      "grid_column": null,
      "grid_gap": null,
      "grid_row": null,
      "grid_template_areas": null,
      "grid_template_columns": null,
      "grid_template_rows": null,
      "height": null,
      "justify_content": null,
      "justify_items": null,
      "left": null,
      "margin": null,
      "max_height": null,
      "max_width": null,
      "min_height": null,
      "min_width": null,
      "object_fit": null,
      "object_position": null,
      "order": null,
      "overflow": null,
      "overflow_x": null,
      "overflow_y": null,
      "padding": null,
      "right": null,
      "top": null,
      "visibility": null,
      "width": null
     }
    },
    "8cefc01a674e4b5aac9032e0bd045566": {
     "model_module": "@jupyter-widgets/controls",
     "model_module_version": "1.5.0",
     "model_name": "HBoxModel",
     "state": {
      "_dom_classes": [],
      "_model_module": "@jupyter-widgets/controls",
      "_model_module_version": "1.5.0",
      "_model_name": "HBoxModel",
      "_view_count": null,
      "_view_module": "@jupyter-widgets/controls",
      "_view_module_version": "1.5.0",
      "_view_name": "HBoxView",
      "box_style": "",
      "children": [
       "IPY_MODEL_cb58e4be7f5841bd8a2559c8794271bb",
       "IPY_MODEL_6177d25a8788421ba98e31b54e27cfaa",
       "IPY_MODEL_234a6eda7c6e46f4b471693b2c6c946a"
      ],
      "layout": "IPY_MODEL_aafe9da81dff481eba20c6521eeda0f2"
     }
    },
    "914d32efcb834b36a96c330663bd1218": {
     "model_module": "@jupyter-widgets/controls",
     "model_module_version": "1.5.0",
     "model_name": "HTMLModel",
     "state": {
      "_dom_classes": [],
      "_model_module": "@jupyter-widgets/controls",
      "_model_module_version": "1.5.0",
      "_model_name": "HTMLModel",
      "_view_count": null,
      "_view_module": "@jupyter-widgets/controls",
      "_view_module_version": "1.5.0",
      "_view_name": "HTMLView",
      "description": "",
      "description_tooltip": null,
      "layout": "IPY_MODEL_05bb50e565ec48eda6b7dad33d177e02",
      "placeholder": "​",
      "style": "IPY_MODEL_216efa09a1bd4171b9f2944321a3a4dc",
      "value": " 9913344/? [00:00&lt;00:00, 20398097.84it/s]"
     }
    },
    "99e1bd950a194ab898b4c16dae894e68": {
     "model_module": "@jupyter-widgets/controls",
     "model_module_version": "1.5.0",
     "model_name": "HBoxModel",
     "state": {
      "_dom_classes": [],
      "_model_module": "@jupyter-widgets/controls",
      "_model_module_version": "1.5.0",
      "_model_name": "HBoxModel",
      "_view_count": null,
      "_view_module": "@jupyter-widgets/controls",
      "_view_module_version": "1.5.0",
      "_view_name": "HBoxView",
      "box_style": "",
      "children": [
       "IPY_MODEL_4b1a0d87a2c14945ad1100ec41dc4584",
       "IPY_MODEL_ebf9b8cb71074654a2af74d02440a429",
       "IPY_MODEL_ecfc54e08447470aa530fd5235b727f2"
      ],
      "layout": "IPY_MODEL_23482974f1d94442b6771ca350089402"
     }
    },
    "a34122d4506c419b9785ebb75a075fb8": {
     "model_module": "@jupyter-widgets/controls",
     "model_module_version": "1.5.0",
     "model_name": "ProgressStyleModel",
     "state": {
      "_model_module": "@jupyter-widgets/controls",
      "_model_module_version": "1.5.0",
      "_model_name": "ProgressStyleModel",
      "_view_count": null,
      "_view_module": "@jupyter-widgets/base",
      "_view_module_version": "1.2.0",
      "_view_name": "StyleView",
      "bar_color": null,
      "description_width": ""
     }
    },
    "aafe9da81dff481eba20c6521eeda0f2": {
     "model_module": "@jupyter-widgets/base",
     "model_module_version": "1.2.0",
     "model_name": "LayoutModel",
     "state": {
      "_model_module": "@jupyter-widgets/base",
      "_model_module_version": "1.2.0",
      "_model_name": "LayoutModel",
      "_view_count": null,
      "_view_module": "@jupyter-widgets/base",
      "_view_module_version": "1.2.0",
      "_view_name": "LayoutView",
      "align_content": null,
      "align_items": null,
      "align_self": null,
      "border": null,
      "bottom": null,
      "display": null,
      "flex": null,
      "flex_flow": null,
      "grid_area": null,
      "grid_auto_columns": null,
      "grid_auto_flow": null,
      "grid_auto_rows": null,
      "grid_column": null,
      "grid_gap": null,
      "grid_row": null,
      "grid_template_areas": null,
      "grid_template_columns": null,
      "grid_template_rows": null,
      "height": null,
      "justify_content": null,
      "justify_items": null,
      "left": null,
      "margin": null,
      "max_height": null,
      "max_width": null,
      "min_height": null,
      "min_width": null,
      "object_fit": null,
      "object_position": null,
      "order": null,
      "overflow": null,
      "overflow_x": null,
      "overflow_y": null,
      "padding": null,
      "right": null,
      "top": null,
      "visibility": null,
      "width": null
     }
    },
    "ace7eecdf33446f6b017686ba8d97737": {
     "model_module": "@jupyter-widgets/controls",
     "model_module_version": "1.5.0",
     "model_name": "HTMLModel",
     "state": {
      "_dom_classes": [],
      "_model_module": "@jupyter-widgets/controls",
      "_model_module_version": "1.5.0",
      "_model_name": "HTMLModel",
      "_view_count": null,
      "_view_module": "@jupyter-widgets/controls",
      "_view_module_version": "1.5.0",
      "_view_name": "HTMLView",
      "description": "",
      "description_tooltip": null,
      "layout": "IPY_MODEL_cf331529243248328cf5efbaee31b0de",
      "placeholder": "​",
      "style": "IPY_MODEL_53da81545d0447a7b54a68c29b72597c",
      "value": " 1649664/? [00:00&lt;00:00, 17912421.63it/s]"
     }
    },
    "b3417e5e98fb47b9ae1d4c49f4a291bb": {
     "model_module": "@jupyter-widgets/controls",
     "model_module_version": "1.5.0",
     "model_name": "FloatProgressModel",
     "state": {
      "_dom_classes": [],
      "_model_module": "@jupyter-widgets/controls",
      "_model_module_version": "1.5.0",
      "_model_name": "FloatProgressModel",
      "_view_count": null,
      "_view_module": "@jupyter-widgets/controls",
      "_view_module_version": "1.5.0",
      "_view_name": "ProgressView",
      "bar_style": "success",
      "description": "",
      "description_tooltip": null,
      "layout": "IPY_MODEL_8c3ad49245ca41069bcfeacb29aa9303",
      "max": 1648877,
      "min": 0,
      "orientation": "horizontal",
      "style": "IPY_MODEL_a34122d4506c419b9785ebb75a075fb8",
      "value": 1648877
     }
    },
    "bbf76db98de04b0ab3cec18115c11f7d": {
     "model_module": "@jupyter-widgets/base",
     "model_module_version": "1.2.0",
     "model_name": "LayoutModel",
     "state": {
      "_model_module": "@jupyter-widgets/base",
      "_model_module_version": "1.2.0",
      "_model_name": "LayoutModel",
      "_view_count": null,
      "_view_module": "@jupyter-widgets/base",
      "_view_module_version": "1.2.0",
      "_view_name": "LayoutView",
      "align_content": null,
      "align_items": null,
      "align_self": null,
      "border": null,
      "bottom": null,
      "display": null,
      "flex": null,
      "flex_flow": null,
      "grid_area": null,
      "grid_auto_columns": null,
      "grid_auto_flow": null,
      "grid_auto_rows": null,
      "grid_column": null,
      "grid_gap": null,
      "grid_row": null,
      "grid_template_areas": null,
      "grid_template_columns": null,
      "grid_template_rows": null,
      "height": null,
      "justify_content": null,
      "justify_items": null,
      "left": null,
      "margin": null,
      "max_height": null,
      "max_width": null,
      "min_height": null,
      "min_width": null,
      "object_fit": null,
      "object_position": null,
      "order": null,
      "overflow": null,
      "overflow_x": null,
      "overflow_y": null,
      "padding": null,
      "right": null,
      "top": null,
      "visibility": null,
      "width": null
     }
    },
    "cb58e4be7f5841bd8a2559c8794271bb": {
     "model_module": "@jupyter-widgets/controls",
     "model_module_version": "1.5.0",
     "model_name": "HTMLModel",
     "state": {
      "_dom_classes": [],
      "_model_module": "@jupyter-widgets/controls",
      "_model_module_version": "1.5.0",
      "_model_name": "HTMLModel",
      "_view_count": null,
      "_view_module": "@jupyter-widgets/controls",
      "_view_module_version": "1.5.0",
      "_view_name": "HTMLView",
      "description": "",
      "description_tooltip": null,
      "layout": "IPY_MODEL_84bdfa7481954de693b747358aa6c532",
      "placeholder": "​",
      "style": "IPY_MODEL_7755ec4b90c54032aed7d618c14be1cd",
      "value": ""
     }
    },
    "cca9e8b2d8814ca49d048b56963b919e": {
     "model_module": "@jupyter-widgets/base",
     "model_module_version": "1.2.0",
     "model_name": "LayoutModel",
     "state": {
      "_model_module": "@jupyter-widgets/base",
      "_model_module_version": "1.2.0",
      "_model_name": "LayoutModel",
      "_view_count": null,
      "_view_module": "@jupyter-widgets/base",
      "_view_module_version": "1.2.0",
      "_view_name": "LayoutView",
      "align_content": null,
      "align_items": null,
      "align_self": null,
      "border": null,
      "bottom": null,
      "display": null,
      "flex": null,
      "flex_flow": null,
      "grid_area": null,
      "grid_auto_columns": null,
      "grid_auto_flow": null,
      "grid_auto_rows": null,
      "grid_column": null,
      "grid_gap": null,
      "grid_row": null,
      "grid_template_areas": null,
      "grid_template_columns": null,
      "grid_template_rows": null,
      "height": null,
      "justify_content": null,
      "justify_items": null,
      "left": null,
      "margin": null,
      "max_height": null,
      "max_width": null,
      "min_height": null,
      "min_width": null,
      "object_fit": null,
      "object_position": null,
      "order": null,
      "overflow": null,
      "overflow_x": null,
      "overflow_y": null,
      "padding": null,
      "right": null,
      "top": null,
      "visibility": null,
      "width": null
     }
    },
    "cf331529243248328cf5efbaee31b0de": {
     "model_module": "@jupyter-widgets/base",
     "model_module_version": "1.2.0",
     "model_name": "LayoutModel",
     "state": {
      "_model_module": "@jupyter-widgets/base",
      "_model_module_version": "1.2.0",
      "_model_name": "LayoutModel",
      "_view_count": null,
      "_view_module": "@jupyter-widgets/base",
      "_view_module_version": "1.2.0",
      "_view_name": "LayoutView",
      "align_content": null,
      "align_items": null,
      "align_self": null,
      "border": null,
      "bottom": null,
      "display": null,
      "flex": null,
      "flex_flow": null,
      "grid_area": null,
      "grid_auto_columns": null,
      "grid_auto_flow": null,
      "grid_auto_rows": null,
      "grid_column": null,
      "grid_gap": null,
      "grid_row": null,
      "grid_template_areas": null,
      "grid_template_columns": null,
      "grid_template_rows": null,
      "height": null,
      "justify_content": null,
      "justify_items": null,
      "left": null,
      "margin": null,
      "max_height": null,
      "max_width": null,
      "min_height": null,
      "min_width": null,
      "object_fit": null,
      "object_position": null,
      "order": null,
      "overflow": null,
      "overflow_x": null,
      "overflow_y": null,
      "padding": null,
      "right": null,
      "top": null,
      "visibility": null,
      "width": null
     }
    },
    "d9a6df35fa804deea4582b048418eb06": {
     "model_module": "@jupyter-widgets/controls",
     "model_module_version": "1.5.0",
     "model_name": "HTMLModel",
     "state": {
      "_dom_classes": [],
      "_model_module": "@jupyter-widgets/controls",
      "_model_module_version": "1.5.0",
      "_model_name": "HTMLModel",
      "_view_count": null,
      "_view_module": "@jupyter-widgets/controls",
      "_view_module_version": "1.5.0",
      "_view_name": "HTMLView",
      "description": "",
      "description_tooltip": null,
      "layout": "IPY_MODEL_03e209460c6341b681bacd9368e6b2c0",
      "placeholder": "​",
      "style": "IPY_MODEL_8b2b15cbc9a243f2bdd3543f1aa81ed6",
      "value": ""
     }
    },
    "e27c2d5be53a4a4ab002de5cc9613623": {
     "model_module": "@jupyter-widgets/base",
     "model_module_version": "1.2.0",
     "model_name": "LayoutModel",
     "state": {
      "_model_module": "@jupyter-widgets/base",
      "_model_module_version": "1.2.0",
      "_model_name": "LayoutModel",
      "_view_count": null,
      "_view_module": "@jupyter-widgets/base",
      "_view_module_version": "1.2.0",
      "_view_name": "LayoutView",
      "align_content": null,
      "align_items": null,
      "align_self": null,
      "border": null,
      "bottom": null,
      "display": null,
      "flex": null,
      "flex_flow": null,
      "grid_area": null,
      "grid_auto_columns": null,
      "grid_auto_flow": null,
      "grid_auto_rows": null,
      "grid_column": null,
      "grid_gap": null,
      "grid_row": null,
      "grid_template_areas": null,
      "grid_template_columns": null,
      "grid_template_rows": null,
      "height": null,
      "justify_content": null,
      "justify_items": null,
      "left": null,
      "margin": null,
      "max_height": null,
      "max_width": null,
      "min_height": null,
      "min_width": null,
      "object_fit": null,
      "object_position": null,
      "order": null,
      "overflow": null,
      "overflow_x": null,
      "overflow_y": null,
      "padding": null,
      "right": null,
      "top": null,
      "visibility": null,
      "width": null
     }
    },
    "ebf9b8cb71074654a2af74d02440a429": {
     "model_module": "@jupyter-widgets/controls",
     "model_module_version": "1.5.0",
     "model_name": "FloatProgressModel",
     "state": {
      "_dom_classes": [],
      "_model_module": "@jupyter-widgets/controls",
      "_model_module_version": "1.5.0",
      "_model_name": "FloatProgressModel",
      "_view_count": null,
      "_view_module": "@jupyter-widgets/controls",
      "_view_module_version": "1.5.0",
      "_view_name": "ProgressView",
      "bar_style": "success",
      "description": "",
      "description_tooltip": null,
      "layout": "IPY_MODEL_bbf76db98de04b0ab3cec18115c11f7d",
      "max": 4542,
      "min": 0,
      "orientation": "horizontal",
      "style": "IPY_MODEL_46b0b0b8c8604c49a948b6031d99dec6",
      "value": 4542
     }
    },
    "ecfc54e08447470aa530fd5235b727f2": {
     "model_module": "@jupyter-widgets/controls",
     "model_module_version": "1.5.0",
     "model_name": "HTMLModel",
     "state": {
      "_dom_classes": [],
      "_model_module": "@jupyter-widgets/controls",
      "_model_module_version": "1.5.0",
      "_model_name": "HTMLModel",
      "_view_count": null,
      "_view_module": "@jupyter-widgets/controls",
      "_view_module_version": "1.5.0",
      "_view_name": "HTMLView",
      "description": "",
      "description_tooltip": null,
      "layout": "IPY_MODEL_0b5d9a3340f04ea3aae6e9a15725d2e1",
      "placeholder": "​",
      "style": "IPY_MODEL_26610817fc1d4490b4a0f65db22bb917",
      "value": " 5120/? [00:00&lt;00:00, 67254.09it/s]"
     }
    },
    "f53d86b4a61a4f06b1264b695b45ba05": {
     "model_module": "@jupyter-widgets/base",
     "model_module_version": "1.2.0",
     "model_name": "LayoutModel",
     "state": {
      "_model_module": "@jupyter-widgets/base",
      "_model_module_version": "1.2.0",
      "_model_name": "LayoutModel",
      "_view_count": null,
      "_view_module": "@jupyter-widgets/base",
      "_view_module_version": "1.2.0",
      "_view_name": "LayoutView",
      "align_content": null,
      "align_items": null,
      "align_self": null,
      "border": null,
      "bottom": null,
      "display": null,
      "flex": null,
      "flex_flow": null,
      "grid_area": null,
      "grid_auto_columns": null,
      "grid_auto_flow": null,
      "grid_auto_rows": null,
      "grid_column": null,
      "grid_gap": null,
      "grid_row": null,
      "grid_template_areas": null,
      "grid_template_columns": null,
      "grid_template_rows": null,
      "height": null,
      "justify_content": null,
      "justify_items": null,
      "left": null,
      "margin": null,
      "max_height": null,
      "max_width": null,
      "min_height": null,
      "min_width": null,
      "object_fit": null,
      "object_position": null,
      "order": null,
      "overflow": null,
      "overflow_x": null,
      "overflow_y": null,
      "padding": null,
      "right": null,
      "top": null,
      "visibility": null,
      "width": null
     }
    }
   }
  }
 },
 "nbformat": 4,
 "nbformat_minor": 4
}
